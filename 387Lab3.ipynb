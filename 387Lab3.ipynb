{
 "cells": [
  {
   "cell_type": "code",
   "execution_count": 18,
   "metadata": {
    "collapsed": true
   },
   "outputs": [],
   "source": [
    "import numpy as np\n",
    "import random as rn\n",
    "import matplotlib.pyplot as plt\n",
    "import copy\n",
    "import scipy.special as scp\n",
    "from PIL import Image"
   ]
  },
  {
   "cell_type": "markdown",
   "metadata": {},
   "source": [
    "# MATH 387 LAB 3 \n",
    "David Knapik (260607757) \n",
    "\n",
    "4/11/18"
   ]
  },
  {
   "cell_type": "markdown",
   "metadata": {},
   "source": [
    "# Exercise 1"
   ]
  },
  {
   "cell_type": "code",
   "execution_count": 19,
   "metadata": {
    "collapsed": true
   },
   "outputs": [],
   "source": [
    "def Createcheb(n): #takes a positive integer n; creates Chebychev nodes in (-1,1)\n",
    "    x = list();\n",
    "    \n",
    "    for i in range(1,n+1):\n",
    "        x.append(np.cos((2*i-1)/(2*n)*np.pi)) #Formula for Chebychev nodes\n",
    "        \n",
    "    return np.array(x)"
   ]
  },
  {
   "cell_type": "code",
   "execution_count": 22,
   "metadata": {
    "collapsed": true
   },
   "outputs": [],
   "source": [
    "def Abs_Lagrange_Coeff(Nodes,k,x): #Compute the absolute value of the k-th Lagrange coefficient (basis function/polynomial) \n",
    "    prod = 1 #initialize the product we are computing\n",
    "    x_k = Nodes[k]\n",
    "    \n",
    "    for x_i in Nodes:\n",
    "        if x_i != x_k:\n",
    "            prod = prod * (x-x_i)/(x_k-x_i) #Formula for the basis polynomial\n",
    "               \n",
    "    return np.abs(prod) "
   ]
  },
  {
   "cell_type": "code",
   "execution_count": 28,
   "metadata": {
    "collapsed": true
   },
   "outputs": [],
   "source": [
    "def MaxLambda(n):#This corresponds to the desired Lebesgue constant ||Ln||\n",
    "    Mlbda = 0\n",
    "    N = Createcheb(n)\n",
    "    \n",
    "    for i in range(n):\n",
    "        Mlbda = Mlbda + Abs_Lagrange_Coeff(N,i,-1) #evaluate at -1 since the max is attained at +-1 (both give same value)\n",
    "        \n",
    "    return Mlbda"
   ]
  },
  {
   "cell_type": "code",
   "execution_count": 29,
   "metadata": {},
   "outputs": [
    {
     "data": {
      "image/png": "[encoded data removed]",
      "text/plain": [
       "<matplotlib.figure.Figure at 0x239e093a5c0>"
      ]
     },
     "metadata": {},
     "output_type": "display_data"
    }
   ],
   "source": [
    "nmin = 1\n",
    "nmax = 30\n",
    "X = np.array(range(nmin,nmax))\n",
    "Y = []\n",
    "\n",
    "for j in X:\n",
    "    Y.append(MaxLambda(j)) #y-axis is the ||Ln||\n",
    "    \n",
    "plt.scatter(X,Y,color=\"orange\")\n",
    "plt.xlabel(\"n\")\n",
    "plt.ylabel(\"||Ln||\")\n",
    "\n",
    "dependence = np.polyfit(np.log(X),Y,deg=1)     #Line of best fit\n",
    "dx = np.linspace(nmin,nmax,50)\n",
    "dy = dependence[1]+np.log(dx)*dependence[0]\n",
    "plt.plot(dx,dy)\n",
    "plt.text(15,3,\"~\"+str(round(dependence[0],4))+\"log(n)\")\n",
    "plt.show()"
   ]
  },
  {
   "cell_type": "markdown",
   "metadata": {},
   "source": [
    "From the plot of $||L_n||$ against $n$, we experimentally determine the constant $C$ in the assumed dependence $||L_n||=C \\log n$ to be:\n",
    "\n",
    "$$C \\approx 0.6305$$\n",
    "\n"
   ]
  },
  {
   "cell_type": "markdown",
   "metadata": {},
   "source": [
    "# Exercise 2"
   ]
  },
  {
   "cell_type": "code",
   "execution_count": 61,
   "metadata": {
    "collapsed": true
   },
   "outputs": [],
   "source": [
    "def Createequal(n): #positive integer n; creates equidistant nodes in (-1,1)\n",
    "    x = np.linspace(-1,1,n)\n",
    "    \n",
    "    return np.array(x)"
   ]
  },
  {
   "cell_type": "code",
   "execution_count": 62,
   "metadata": {
    "collapsed": true
   },
   "outputs": [],
   "source": [
    "def Derivative_Lagrange_Coeff(Nodes,k,x):\n",
    "    Numerator = 0 #Initialize the Numerator\n",
    "    a = []\n",
    "    l = len(Nodes)\n",
    "    \n",
    "    for j in range(l):\n",
    "        if j!=k:\n",
    "            a.append(Nodes[j])\n",
    "            \n",
    "    for p in a:  #Calculate the numerator of the derivative of the Lagrange Coefficients\n",
    "        prod = 1\n",
    "        for q in a:\n",
    "            prod = prod * (x-q)\n",
    "        prod = prod / (x-p)\n",
    "        Numerator = prod + Numerator\n",
    "    \n",
    "    Denominator = 1 #Initialize the Denominator\n",
    "    \n",
    "    for i in range(l):    #Calculate the denominator of the derivative of the Lagrange Coefficients\n",
    "        if i != k:\n",
    "            Denominator = Denominator * (Nodes[k]-Nodes[i])\n",
    "            \n",
    "            \n",
    "    return Numerator/Denominator"
   ]
  },
  {
   "cell_type": "code",
   "execution_count": 63,
   "metadata": {
    "collapsed": true
   },
   "outputs": [],
   "source": [
    "def Lambda(Nodes,x): #Computes lambda_n(x)\n",
    "    l = len(Nodes)\n",
    "    lbda = 0 \n",
    "    \n",
    "    for j in range(l):\n",
    "        lbda = lbda + Abs_Lagrange_Coeff(Nodes,j,x)\n",
    "        \n",
    "    return lbda"
   ]
  },
  {
   "cell_type": "code",
   "execution_count": 30,
   "metadata": {
    "collapsed": true
   },
   "outputs": [],
   "source": [
    "def Lagrange_Coeff(Nodes,k,x): #Compute the k-th Lagrange coefficient (basis function/polynomial) \n",
    "    prod = 1 #initialize the product\n",
    "    x_k = Nodes[k]\n",
    "    \n",
    "    for x_i in Nodes:\n",
    "        if x_i != x_k:\n",
    "            prod = prod * (x-x_i)/(x_k-x_i) #Formula for the basis polynomial\n",
    "               \n",
    "    return prod"
   ]
  },
  {
   "cell_type": "code",
   "execution_count": 31,
   "metadata": {
    "collapsed": true
   },
   "outputs": [],
   "source": [
    "def Derivative_Lambda(Nodes,x): #Computes lambda'\n",
    "    l = len(Nodes)\n",
    "    Dlbda = 0\n",
    "    \n",
    "    for j in range(l):\n",
    "        Dlbda = Dlbda + np.sign(Lagrange_Coeff(Nodes,j,x))*Derivative_Lagrange_Coeff(Nodes,j,x)\n",
    "        \n",
    "    return Dlbda"
   ]
  },
  {
   "cell_type": "code",
   "execution_count": 33,
   "metadata": {
    "collapsed": true
   },
   "outputs": [],
   "source": [
    "def SecantMethod(x_0,Nodes,epsilon): #Secant method-->a root finding algorithm (finite difference approx. of Newton's Method)\n",
    "    #x_0 is the initial guess\n",
    "    #epsilon>0 will be taken to be very small\n",
    "    \n",
    "    while np.abs(Derivative_Lambda(Nodes,x_0)) > epsilon:\n",
    "        x_0 = x_0 - (Derivative_Lambda(Nodes,x_0))/((Derivative_Lambda(Nodes,x_0+epsilon)-Derivative_Lambda(Nodes,x_0-epsilon))/(2*epsilon))\n",
    "        \n",
    "        \n",
    "    return x_0"
   ]
  },
  {
   "cell_type": "code",
   "execution_count": 35,
   "metadata": {
    "collapsed": true
   },
   "outputs": [],
   "source": [
    "def LebesgueConstant_Equal(n): #Computes ||Ln||\n",
    "    Nodes = Createequal(n) #equidistant nodes\n",
    "    ig = (1/2)*Nodes[0]+(1/2)*Nodes[1] #we take this as our initial guess x_0\n",
    "    globmax = SecantMethod(ig,Nodes,0.0001) #use Secant Method to find the desired zero\n",
    "    \n",
    "    return Lambda(Nodes,globmax)"
   ]
  },
  {
   "cell_type": "code",
   "execution_count": 86,
   "metadata": {},
   "outputs": [
    {
     "data": {
      "image/png": "[encoded data removed]",
      "text/plain": [
       "<matplotlib.figure.Figure at 0x261b1b7f550>"
      ]
     },
     "metadata": {},
     "output_type": "display_data"
    }
   ],
   "source": [
    "nmin = 2\n",
    "nmax = 20\n",
    "X = np.array(range(nmin,nmax))\n",
    "Y = []\n",
    "\n",
    "for j in X:\n",
    "    Y.append(LebesgueConstant_Equal(j))\n",
    "    \n",
    "plt.scatter(X,Y,color=\"orange\")\n",
    "plt.xlabel(\"n\")\n",
    "plt.ylabel(\"||Ln||\")\n",
    "\n",
    "dependence = np.polyfit(2**X,Y,deg=1)     \n",
    "dx = np.linspace(nmin,nmax,50)\n",
    "dy = dependence[1]+(2**dx)*dependence[0]\n",
    "plt.plot(dx,dy)\n",
    "plt.text(10,1000,\" ~ (\"+str(round(dependence[0], 4))+\")*2^n\")\n",
    "plt.show()"
   ]
  },
  {
   "cell_type": "markdown",
   "metadata": {},
   "source": [
    "From the above plot of $||L_n||$ against $n$, we see that $||L_n|| \\approx 2^n$."
   ]
  },
  {
   "cell_type": "markdown",
   "metadata": {},
   "source": [
    "# Exercise 3"
   ]
  },
  {
   "cell_type": "code",
   "execution_count": 38,
   "metadata": {
    "collapsed": true
   },
   "outputs": [],
   "source": [
    "def Quadnodes(n):\n",
    "    j=1\n",
    "    Nodes = [0.0000000001] #First node is very close to 0\n",
    "    node = (np.pi)/((n+1/2)*4) #The zeros of the integrand are at at multiples of pi/(n+1/2) , so put 4 for each division\n",
    "    \n",
    "    while node < np.pi:\n",
    "        Nodes.append(node)\n",
    "        j=j+1\n",
    "        node = (j*np.pi)/((n+1/2)*4) #update node\n",
    "    Nodes.append(np.pi) #Last node is pi\n",
    "    return Nodes"
   ]
  },
  {
   "cell_type": "code",
   "execution_count": 40,
   "metadata": {
    "collapsed": true
   },
   "outputs": [],
   "source": [
    "def Integrand(n,theta): #Computes the integrand in (**) of the lab theory\n",
    "    return np.abs((np.sin((n+1/2)*theta))/(2*np.sin(theta/2)))"
   ]
  },
  {
   "cell_type": "code",
   "execution_count": 41,
   "metadata": {
    "collapsed": true
   },
   "outputs": [],
   "source": [
    "def LebConstantChebyTrunc(n): #Computes ||Sn||\n",
    "    LC = 0\n",
    "    Nodes = Quadnodes(n)\n",
    "    l = len(Nodes)\n",
    "    \n",
    "    #We use the composite trapezoidal rule:\n",
    "    for j in range(0,l-1):\n",
    "        a = Integrand(n,Nodes[j])\n",
    "        b = Integrand(n,Nodes[j+1])\n",
    "        LC = LC +(Nodes[j+1]-Nodes[j])*((a+b)/2)\n",
    "        \n",
    "    return LC"
   ]
  },
  {
   "cell_type": "code",
   "execution_count": 42,
   "metadata": {},
   "outputs": [
    {
     "data": {
      "image/png": "[encoded data removed]",
      "text/plain": [
       "<matplotlib.figure.Figure at 0x239e07bf6d8>"
      ]
     },
     "metadata": {},
     "output_type": "display_data"
    }
   ],
   "source": [
    "nmin = 2\n",
    "nmax = 50\n",
    "X = np.array(range(nmin,nmax))\n",
    "Y = []\n",
    "\n",
    "for j in X:\n",
    "    Y.append(LebConstantChebyTrunc(j))\n",
    "    \n",
    "plt.scatter(X,Y,color=\"orange\")\n",
    "plt.xlabel(\"n\")\n",
    "plt.ylabel(\"||Sn||\")\n",
    "\n",
    "dependence = np.polyfit(np.log(X),Y,deg=1)     \n",
    "dx = np.linspace(nmin,nmax,50)\n",
    "dy = dependence[1]+np.log(dx)*dependence[0]\n",
    "plt.plot(dx,dy)\n",
    "plt.text(15,3,\"~\"+str(round(dependence[0],4))+\"log(n)\")\n",
    "plt.show()"
   ]
  },
  {
   "cell_type": "markdown",
   "metadata": {},
   "source": [
    "From the plot of $||S_n||$ against $n$, we experimentally determine the constant $C$ in the assumed dependence $||S_n||=C \\log n$ to be:\n",
    "\n",
    "$$C \\approx 0.5752$$"
   ]
  },
  {
   "cell_type": "markdown",
   "metadata": {},
   "source": [
    "# Exercise 4"
   ]
  },
  {
   "cell_type": "code",
   "execution_count": 1,
   "metadata": {
    "collapsed": true
   },
   "outputs": [],
   "source": [
    "def a(k):\n",
    "    return (2*k+1)/(2) #We use the a_k determined in Assignment 4"
   ]
  },
  {
   "cell_type": "code",
   "execution_count": 43,
   "metadata": {
    "collapsed": true
   },
   "outputs": [],
   "source": [
    "def P(k,x): #Compute Legendre Polynomials\n",
    "    prelim = 0\n",
    "    for i in range(0,k+1):\n",
    "        prelim = prelim + (x**i)*scp.binom(k,i)*scp.binom((k+i-1)/2,k) #formula (without the 2^k factor)\n",
    "        \n",
    "    return (2**k)*prelim"
   ]
  },
  {
   "cell_type": "code",
   "execution_count": 44,
   "metadata": {
    "collapsed": true
   },
   "outputs": [],
   "source": [
    "def Integrand2(n,x):#Computes the integrand in (†) of the lab theory\n",
    "    integrand = 0\n",
    "    \n",
    "    for k in range(0,n+1):\n",
    "        integrand = integrand + a(k)*P(k,x)\n",
    "        \n",
    "    return np.abs(integrand)"
   ]
  },
  {
   "cell_type": "code",
   "execution_count": 45,
   "metadata": {
    "collapsed": true
   },
   "outputs": [],
   "source": [
    "def LebConstantLegTrunc(n): #Computes ||Sn||\n",
    "    LC = 0\n",
    "    Nodes = np.linspace(-1,1,7*n) #use equally spaced nodes\n",
    "    l = len(Nodes)\n",
    "    \n",
    "    #We use the composite trapezoidal rule:\n",
    "    for j in range(0,l-1):\n",
    "        a = Integrand2(n,Nodes[j])\n",
    "        b = Integrand2(n,Nodes[j+1])\n",
    "        LC = LC +(Nodes[j+1]-Nodes[j])*((a+b)/2)\n",
    "        \n",
    "    return LC"
   ]
  },
  {
   "cell_type": "code",
   "execution_count": 11,
   "metadata": {},
   "outputs": [
    {
     "data": {
      "image/png": "[encoded data removed]",
      "text/plain": [
       "<matplotlib.figure.Figure at 0x239e0652ef0>"
      ]
     },
     "metadata": {},
     "output_type": "display_data"
    }
   ],
   "source": [
    "nmin = 2\n",
    "nmax = 20\n",
    "X = np.array(range(nmin,nmax))\n",
    "Y = []\n",
    "\n",
    "for j in X:\n",
    "    Y.append(LebConstantLegTrunc(j))\n",
    "    \n",
    "plt.scatter(X,Y,color=\"orange\")\n",
    "plt.xlabel(\"n\")\n",
    "plt.ylabel(\"||Sn||\")\n",
    "\n",
    "dependence = np.polyfit(np.sqrt(X),Y,deg=1)     \n",
    "dx = np.linspace(nmin,nmax,50)\n",
    "dy = dependence[1]+np.sqrt(dx)*dependence[0]\n",
    "plt.plot(dx,dy)\n",
    "plt.text(15,3,\"~\"+str(round(dependence[0],4))+\"sqrt(n)\")\n",
    "plt.show()"
   ]
  },
  {
   "cell_type": "markdown",
   "metadata": {
    "collapsed": true
   },
   "source": [
    "From the plot of $||S_n||$ against $n$, we experimentally determine the constant $C$ in the assumed dependence $||S_n||=C \\sqrt{ n}$ to be:\n",
    "\n",
    "$$C \\approx 1.6439$$\n",
    "\n",
    "Perhaps if we had more information about the integrand, we could choose our nodes more carefully and obtain a bit of a better fit."
   ]
  },
  {
   "cell_type": "markdown",
   "metadata": {},
   "source": [
    "# Exercise 5"
   ]
  },
  {
   "cell_type": "code",
   "execution_count": 10,
   "metadata": {
    "collapsed": true
   },
   "outputs": [],
   "source": [
    "def Weights(Nodes,k): #We approximate the integral of the k-th Lagrange basis polynomial to get the weights\n",
    "    weight =0\n",
    "    l = len(Nodes)\n",
    "    interpnodes = np.linspace(0,1,l*3)\n",
    "    l2 = len(interpnodes)\n",
    "    \n",
    "    #We use the trapezoidal rule:\n",
    "    for j in range(0,l2-1):\n",
    "        a = Lagrange_Coeff(Nodes,k,interpnodes[j])\n",
    "        b = Lagrange_Coeff(Nodes,k,interpnodes[j+1])\n",
    "        weight = weight + ((interpnodes[j+1]- interpnodes[j])*((a+b)/2))\n",
    "        \n",
    "    return weight"
   ]
  },
  {
   "cell_type": "code",
   "execution_count": 46,
   "metadata": {
    "collapsed": true
   },
   "outputs": [],
   "source": [
    "def LebConstantNC(n): #Computes ||Qn||\n",
    "    LC = 0\n",
    "    Nodes = np.linspace(0,1,n+1)  #n+1 nodes for the interval [0,1] (we use equally spaced nodes)\n",
    "    l = len(Nodes)\n",
    "    \n",
    "    for k in range(0,n+1):\n",
    "        LC = LC + np.abs(Weights(Nodes,k)) #Using formula (††)\n",
    "        \n",
    "    return LC"
   ]
  },
  {
   "cell_type": "code",
   "execution_count": 50,
   "metadata": {},
   "outputs": [
    {
     "data": {
      "image/png": "[encoded data removed]",
      "text/plain": [
       "<matplotlib.figure.Figure at 0x239e104e240>"
      ]
     },
     "metadata": {},
     "output_type": "display_data"
    }
   ],
   "source": [
    "nmin = 2\n",
    "nmax = 25\n",
    "X = np.array(range(nmin,nmax))\n",
    "Y = []\n",
    "\n",
    "for j in X:\n",
    "    Y.append(LebConstantNC(j))\n",
    "    \n",
    "plt.scatter(X,Y,color=\"orange\")\n",
    "plt.xlabel(\"n\")\n",
    "plt.ylabel(\"||Qn||\")\n",
    "\n",
    "dependence = np.polyfit(1.7**X,Y,deg=1)     \n",
    "dx = np.linspace(nmin,nmax,50)\n",
    "dy = dependence[1]+(1.7**dx)*dependence[0]\n",
    "plt.plot(dx,dy)\n",
    "plt.text(10,400,\" ~ (\"+str(round(dependence[0], 4))+\")*1.7^n\")\n",
    "plt.show()"
   ]
  },
  {
   "cell_type": "markdown",
   "metadata": {},
   "source": [
    "From the above plot of $||Q_n||$ against $n$, we guess that the functional dependence of $||Q_n||$ on $n$ is exponential."
   ]
  }
 ],
 "metadata": {
  "kernelspec": {
   "display_name": "Python 3",
   "language": "python",
   "name": "python3"
  },
  "language_info": {
   "codemirror_mode": {
    "name": "ipython",
    "version": 3
   },
   "file_extension": ".py",
   "mimetype": "text/x-python",
   "name": "python",
   "nbconvert_exporter": "python",
   "pygments_lexer": "ipython3",
   "version": "3.6.3"
  }
 },
 "nbformat": 4,
 "nbformat_minor": 2
}
